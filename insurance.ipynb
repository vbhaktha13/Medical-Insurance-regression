{
 "cells": [
  {
   "cell_type": "code",
   "execution_count": 1,
   "id": "e339c4c8",
   "metadata": {},
   "outputs": [],
   "source": [
    "import numpy as np\n",
    "import pandas as pd"
   ]
  },
  {
   "cell_type": "code",
   "execution_count": 2,
   "id": "61ad178a",
   "metadata": {},
   "outputs": [
    {
     "data": {
      "text/html": [
       "<div>\n",
       "<style scoped>\n",
       "    .dataframe tbody tr th:only-of-type {\n",
       "        vertical-align: middle;\n",
       "    }\n",
       "\n",
       "    .dataframe tbody tr th {\n",
       "        vertical-align: top;\n",
       "    }\n",
       "\n",
       "    .dataframe thead th {\n",
       "        text-align: right;\n",
       "    }\n",
       "</style>\n",
       "<table border=\"1\" class=\"dataframe\">\n",
       "  <thead>\n",
       "    <tr style=\"text-align: right;\">\n",
       "      <th></th>\n",
       "      <th>age</th>\n",
       "      <th>sex</th>\n",
       "      <th>bmi</th>\n",
       "      <th>children</th>\n",
       "      <th>smoker</th>\n",
       "      <th>region</th>\n",
       "      <th>charges</th>\n",
       "    </tr>\n",
       "  </thead>\n",
       "  <tbody>\n",
       "    <tr>\n",
       "      <th>0</th>\n",
       "      <td>19</td>\n",
       "      <td>female</td>\n",
       "      <td>27.900</td>\n",
       "      <td>0</td>\n",
       "      <td>yes</td>\n",
       "      <td>southwest</td>\n",
       "      <td>16884.92400</td>\n",
       "    </tr>\n",
       "    <tr>\n",
       "      <th>1</th>\n",
       "      <td>18</td>\n",
       "      <td>male</td>\n",
       "      <td>33.770</td>\n",
       "      <td>1</td>\n",
       "      <td>no</td>\n",
       "      <td>southeast</td>\n",
       "      <td>1725.55230</td>\n",
       "    </tr>\n",
       "    <tr>\n",
       "      <th>2</th>\n",
       "      <td>28</td>\n",
       "      <td>male</td>\n",
       "      <td>33.000</td>\n",
       "      <td>3</td>\n",
       "      <td>no</td>\n",
       "      <td>southeast</td>\n",
       "      <td>4449.46200</td>\n",
       "    </tr>\n",
       "    <tr>\n",
       "      <th>3</th>\n",
       "      <td>33</td>\n",
       "      <td>male</td>\n",
       "      <td>22.705</td>\n",
       "      <td>0</td>\n",
       "      <td>no</td>\n",
       "      <td>northwest</td>\n",
       "      <td>21984.47061</td>\n",
       "    </tr>\n",
       "    <tr>\n",
       "      <th>4</th>\n",
       "      <td>32</td>\n",
       "      <td>male</td>\n",
       "      <td>28.880</td>\n",
       "      <td>0</td>\n",
       "      <td>no</td>\n",
       "      <td>northwest</td>\n",
       "      <td>3866.85520</td>\n",
       "    </tr>\n",
       "  </tbody>\n",
       "</table>\n",
       "</div>"
      ],
      "text/plain": [
       "   age     sex     bmi  children smoker     region      charges\n",
       "0   19  female  27.900         0    yes  southwest  16884.92400\n",
       "1   18    male  33.770         1     no  southeast   1725.55230\n",
       "2   28    male  33.000         3     no  southeast   4449.46200\n",
       "3   33    male  22.705         0     no  northwest  21984.47061\n",
       "4   32    male  28.880         0     no  northwest   3866.85520"
      ]
     },
     "execution_count": 2,
     "metadata": {},
     "output_type": "execute_result"
    }
   ],
   "source": [
    "med_df = pd.read_csv('insurance.csv')\n",
    "med_df.head()"
   ]
  },
  {
   "cell_type": "code",
   "execution_count": 3,
   "id": "ac508f64",
   "metadata": {},
   "outputs": [
    {
     "name": "stdout",
     "output_type": "stream",
     "text": [
      "<class 'pandas.core.frame.DataFrame'>\n",
      "RangeIndex: 1338 entries, 0 to 1337\n",
      "Data columns (total 7 columns):\n",
      " #   Column    Non-Null Count  Dtype  \n",
      "---  ------    --------------  -----  \n",
      " 0   age       1338 non-null   int64  \n",
      " 1   sex       1338 non-null   object \n",
      " 2   bmi       1338 non-null   float64\n",
      " 3   children  1338 non-null   int64  \n",
      " 4   smoker    1338 non-null   object \n",
      " 5   region    1338 non-null   object \n",
      " 6   charges   1338 non-null   float64\n",
      "dtypes: float64(2), int64(2), object(3)\n",
      "memory usage: 73.3+ KB\n"
     ]
    }
   ],
   "source": [
    "med_df.info()\n"
   ]
  },
  {
   "cell_type": "code",
   "execution_count": 4,
   "id": "a931700f",
   "metadata": {},
   "outputs": [
    {
     "data": {
      "text/html": [
       "<div>\n",
       "<style scoped>\n",
       "    .dataframe tbody tr th:only-of-type {\n",
       "        vertical-align: middle;\n",
       "    }\n",
       "\n",
       "    .dataframe tbody tr th {\n",
       "        vertical-align: top;\n",
       "    }\n",
       "\n",
       "    .dataframe thead th {\n",
       "        text-align: right;\n",
       "    }\n",
       "</style>\n",
       "<table border=\"1\" class=\"dataframe\">\n",
       "  <thead>\n",
       "    <tr style=\"text-align: right;\">\n",
       "      <th></th>\n",
       "      <th>age</th>\n",
       "      <th>bmi</th>\n",
       "      <th>children</th>\n",
       "      <th>charges</th>\n",
       "    </tr>\n",
       "  </thead>\n",
       "  <tbody>\n",
       "    <tr>\n",
       "      <th>count</th>\n",
       "      <td>1338.000000</td>\n",
       "      <td>1338.000000</td>\n",
       "      <td>1338.000000</td>\n",
       "      <td>1338.000000</td>\n",
       "    </tr>\n",
       "    <tr>\n",
       "      <th>mean</th>\n",
       "      <td>39.207025</td>\n",
       "      <td>30.663397</td>\n",
       "      <td>1.094918</td>\n",
       "      <td>13270.422265</td>\n",
       "    </tr>\n",
       "    <tr>\n",
       "      <th>std</th>\n",
       "      <td>14.049960</td>\n",
       "      <td>6.098187</td>\n",
       "      <td>1.205493</td>\n",
       "      <td>12110.011237</td>\n",
       "    </tr>\n",
       "    <tr>\n",
       "      <th>min</th>\n",
       "      <td>18.000000</td>\n",
       "      <td>15.960000</td>\n",
       "      <td>0.000000</td>\n",
       "      <td>1121.873900</td>\n",
       "    </tr>\n",
       "    <tr>\n",
       "      <th>25%</th>\n",
       "      <td>27.000000</td>\n",
       "      <td>26.296250</td>\n",
       "      <td>0.000000</td>\n",
       "      <td>4740.287150</td>\n",
       "    </tr>\n",
       "    <tr>\n",
       "      <th>50%</th>\n",
       "      <td>39.000000</td>\n",
       "      <td>30.400000</td>\n",
       "      <td>1.000000</td>\n",
       "      <td>9382.033000</td>\n",
       "    </tr>\n",
       "    <tr>\n",
       "      <th>75%</th>\n",
       "      <td>51.000000</td>\n",
       "      <td>34.693750</td>\n",
       "      <td>2.000000</td>\n",
       "      <td>16639.912515</td>\n",
       "    </tr>\n",
       "    <tr>\n",
       "      <th>max</th>\n",
       "      <td>64.000000</td>\n",
       "      <td>53.130000</td>\n",
       "      <td>5.000000</td>\n",
       "      <td>63770.428010</td>\n",
       "    </tr>\n",
       "  </tbody>\n",
       "</table>\n",
       "</div>"
      ],
      "text/plain": [
       "               age          bmi     children       charges\n",
       "count  1338.000000  1338.000000  1338.000000   1338.000000\n",
       "mean     39.207025    30.663397     1.094918  13270.422265\n",
       "std      14.049960     6.098187     1.205493  12110.011237\n",
       "min      18.000000    15.960000     0.000000   1121.873900\n",
       "25%      27.000000    26.296250     0.000000   4740.287150\n",
       "50%      39.000000    30.400000     1.000000   9382.033000\n",
       "75%      51.000000    34.693750     2.000000  16639.912515\n",
       "max      64.000000    53.130000     5.000000  63770.428010"
      ]
     },
     "execution_count": 4,
     "metadata": {},
     "output_type": "execute_result"
    }
   ],
   "source": [
    "med_df.describe()"
   ]
  },
  {
   "cell_type": "code",
   "execution_count": 5,
   "id": "ee62817e",
   "metadata": {},
   "outputs": [
    {
     "data": {
      "text/plain": [
       "age         0\n",
       "sex         0\n",
       "bmi         0\n",
       "children    0\n",
       "smoker      0\n",
       "region      0\n",
       "charges     0\n",
       "dtype: int64"
      ]
     },
     "execution_count": 5,
     "metadata": {},
     "output_type": "execute_result"
    }
   ],
   "source": [
    "med_df.isnull().sum()"
   ]
  },
  {
   "cell_type": "code",
   "execution_count": 6,
   "id": "691b9a37",
   "metadata": {},
   "outputs": [
    {
     "data": {
      "text/plain": [
       "<AxesSubplot:>"
      ]
     },
     "execution_count": 6,
     "metadata": {},
     "output_type": "execute_result"
    },
    {
     "data": {
      "image/png": "[encoded data removed]",
      "text/plain": [
       "<Figure size 432x288 with 1 Axes>"
      ]
     },
     "metadata": {
      "needs_background": "light"
     },
     "output_type": "display_data"
    }
   ],
   "source": [
    "med_df.age.hist()"
   ]
  },
  {
   "cell_type": "code",
   "execution_count": 7,
   "id": "293e09a0",
   "metadata": {},
   "outputs": [
    {
     "data": {
      "text/plain": [
       "<AxesSubplot:>"
      ]
     },
     "execution_count": 7,
     "metadata": {},
     "output_type": "execute_result"
    },
    {
     "data": {
      "image/png": "[encoded data removed]",
      "text/plain": [
       "<Figure size 432x288 with 1 Axes>"
      ]
     },
     "metadata": {
      "needs_background": "light"
     },
     "output_type": "display_data"
    }
   ],
   "source": [
    "med_df.bmi.hist()"
   ]
  },
  {
   "cell_type": "code",
   "execution_count": 8,
   "id": "8f84bb48",
   "metadata": {},
   "outputs": [
    {
     "data": {
      "text/plain": [
       "<AxesSubplot:>"
      ]
     },
     "execution_count": 8,
     "metadata": {},
     "output_type": "execute_result"
    },
    {
     "data": {
      "image/png": "[encoded data removed]",
      "text/plain": [
       "<Figure size 432x288 with 1 Axes>"
      ]
     },
     "metadata": {
      "needs_background": "light"
     },
     "output_type": "display_data"
    }
   ],
   "source": [
    "med_df.charges.hist()"
   ]
  },
  {
   "cell_type": "code",
   "execution_count": 9,
   "id": "1264c2ef",
   "metadata": {},
   "outputs": [
    {
     "data": {
      "text/plain": [
       "<AxesSubplot:>"
      ]
     },
     "execution_count": 9,
     "metadata": {},
     "output_type": "execute_result"
    },
    {
     "data": {
      "image/png": "[encoded data removed]",
      "text/plain": [
       "<Figure size 432x288 with 1 Axes>"
      ]
     },
     "metadata": {
      "needs_background": "light"
     },
     "output_type": "display_data"
    }
   ],
   "source": [
    "#log transform of Y variable\n",
    "np.log1p(med_df['charges']).hist()"
   ]
  },
  {
   "cell_type": "code",
   "execution_count": 10,
   "id": "bd5ce835",
   "metadata": {},
   "outputs": [
    {
     "data": {
      "text/plain": [
       "<AxesSubplot:>"
      ]
     },
     "execution_count": 10,
     "metadata": {},
     "output_type": "execute_result"
    },
    {
     "data": {
      "image/png": "[encoded data removed]",
      "text/plain": [
       "<Figure size 432x288 with 1 Axes>"
      ]
     },
     "metadata": {
      "needs_background": "light"
     },
     "output_type": "display_data"
    }
   ],
   "source": [
    "med_df.children.hist()"
   ]
  },
  {
   "cell_type": "code",
   "execution_count": 11,
   "id": "1478d929",
   "metadata": {},
   "outputs": [
    {
     "data": {
      "text/plain": [
       "no     1064\n",
       "yes     274\n",
       "Name: smoker, dtype: int64"
      ]
     },
     "execution_count": 11,
     "metadata": {},
     "output_type": "execute_result"
    }
   ],
   "source": [
    "med_df.smoker.value_counts()"
   ]
  },
  {
   "cell_type": "code",
   "execution_count": 12,
   "id": "adea40ae",
   "metadata": {},
   "outputs": [
    {
     "data": {
      "text/plain": [
       "southeast    364\n",
       "northwest    325\n",
       "southwest    325\n",
       "northeast    324\n",
       "Name: region, dtype: int64"
      ]
     },
     "execution_count": 12,
     "metadata": {},
     "output_type": "execute_result"
    }
   ],
   "source": [
    "med_df.region.value_counts()"
   ]
  },
  {
   "cell_type": "code",
   "execution_count": 13,
   "id": "05e9d3b4",
   "metadata": {},
   "outputs": [
    {
     "data": {
      "text/plain": [
       "male      676\n",
       "female    662\n",
       "Name: sex, dtype: int64"
      ]
     },
     "execution_count": 13,
     "metadata": {},
     "output_type": "execute_result"
    }
   ],
   "source": [
    "med_df.sex.value_counts()"
   ]
  },
  {
   "cell_type": "code",
   "execution_count": 14,
   "id": "5e6bca22",
   "metadata": {},
   "outputs": [
    {
     "data": {
      "text/plain": [
       "Text(0.5, 0, 'charges')"
      ]
     },
     "execution_count": 14,
     "metadata": {},
     "output_type": "execute_result"
    },
    {
     "data": {
      "image/png": "[encoded data removed]",
      "text/plain": [
       "<Figure size 720x432 with 1 Axes>"
      ]
     },
     "metadata": {
      "needs_background": "light"
     },
     "output_type": "display_data"
    }
   ],
   "source": [
    "import matplotlib.pyplot as plt\n",
    "\n",
    "plt.figure(figsize=(10,6))\n",
    "med_df[med_df['sex']=='female']['charges'].hist(alpha=0.5,color='red',\n",
    "                                              bins=20,label='sex=Female')\n",
    "med_df[med_df['sex']=='male']['charges'].hist(alpha=0.5,color='green',\n",
    "                                              bins=20,label='sex=Male')\n",
    "plt.legend()\n",
    "plt.xlabel('charges')\n"
   ]
  },
  {
   "cell_type": "code",
   "execution_count": 15,
   "id": "87d8e7d5",
   "metadata": {},
   "outputs": [
    {
     "data": {
      "text/plain": [
       "Text(0.5, 0, 'charges')"
      ]
     },
     "execution_count": 15,
     "metadata": {},
     "output_type": "execute_result"
    },
    {
     "data": {
      "image/png": "[encoded data removed]",
      "text/plain": [
       "<Figure size 720x432 with 1 Axes>"
      ]
     },
     "metadata": {
      "needs_background": "light"
     },
     "output_type": "display_data"
    }
   ],
   "source": [
    "import matplotlib.pyplot as plt\n",
    "\n",
    "plt.figure(figsize=(10,6))\n",
    "med_df[med_df['smoker']=='yes']['charges'].hist(alpha=0.5,color='orange',\n",
    "                                              bins=20,label='smoker=yes')\n",
    "med_df[med_df['smoker']=='no']['charges'].hist(alpha=0.5,color='blue',\n",
    "                                              bins=20,label='smoker=no')\n",
    "plt.legend()\n",
    "plt.xlabel('charges')"
   ]
  },
  {
   "cell_type": "code",
   "execution_count": 16,
   "id": "c1ebfeda",
   "metadata": {},
   "outputs": [
    {
     "data": {
      "text/plain": [
       "Text(0.5, 0, 'charges')"
      ]
     },
     "execution_count": 16,
     "metadata": {},
     "output_type": "execute_result"
    },
    {
     "data": {
      "image/png": "[encoded data removed]",
      "text/plain": [
       "<Figure size 720x432 with 1 Axes>"
      ]
     },
     "metadata": {
      "needs_background": "light"
     },
     "output_type": "display_data"
    }
   ],
   "source": [
    "import matplotlib.pyplot as plt\n",
    "\n",
    "plt.figure(figsize=(10,6))\n",
    "med_df[med_df['region']=='southeast']['charges'].hist(alpha=0.5,color='orange',bins=20,label='region=southeast')\n",
    "med_df[med_df['region']=='southwest']['charges'].hist(alpha=0.5,color='green',bins=20,label='region=souththwest')\n",
    "med_df[med_df['region']=='northwest']['charges'].hist(alpha=0.5,color='violet',bins=20,label='region=northwest')\n",
    "med_df[med_df['region']=='northeast']['charges'].hist(alpha=0.5,color='blue',bins=20,label='region=northeast')                                              \n",
    "plt.legend()\n",
    "plt.xlabel('charges')"
   ]
  },
  {
   "cell_type": "code",
   "execution_count": 17,
   "id": "42838201",
   "metadata": {},
   "outputs": [
    {
     "data": {
      "text/plain": [
       "<AxesSubplot:>"
      ]
     },
     "execution_count": 17,
     "metadata": {},
     "output_type": "execute_result"
    },
    {
     "data": {
      "image/png": "[encoded data removed]",
      "text/plain": [
       "<Figure size 432x288 with 1 Axes>"
      ]
     },
     "metadata": {
      "needs_background": "light"
     },
     "output_type": "display_data"
    }
   ],
   "source": [
    "med_df.boxplot(column=['bmi','charges','age'])"
   ]
  },
  {
   "cell_type": "code",
   "execution_count": 18,
   "id": "873a794a",
   "metadata": {},
   "outputs": [
    {
     "data": {
      "text/html": [
       "<div>\n",
       "<style scoped>\n",
       "    .dataframe tbody tr th:only-of-type {\n",
       "        vertical-align: middle;\n",
       "    }\n",
       "\n",
       "    .dataframe tbody tr th {\n",
       "        vertical-align: top;\n",
       "    }\n",
       "\n",
       "    .dataframe thead tr th {\n",
       "        text-align: left;\n",
       "    }\n",
       "\n",
       "    .dataframe thead tr:last-of-type th {\n",
       "        text-align: right;\n",
       "    }\n",
       "</style>\n",
       "<table border=\"1\" class=\"dataframe\">\n",
       "  <thead>\n",
       "    <tr>\n",
       "      <th></th>\n",
       "      <th colspan=\"8\" halign=\"left\">charges</th>\n",
       "    </tr>\n",
       "    <tr>\n",
       "      <th></th>\n",
       "      <th>count</th>\n",
       "      <th>mean</th>\n",
       "      <th>std</th>\n",
       "      <th>min</th>\n",
       "      <th>25%</th>\n",
       "      <th>50%</th>\n",
       "      <th>75%</th>\n",
       "      <th>max</th>\n",
       "    </tr>\n",
       "    <tr>\n",
       "      <th>sex</th>\n",
       "      <th></th>\n",
       "      <th></th>\n",
       "      <th></th>\n",
       "      <th></th>\n",
       "      <th></th>\n",
       "      <th></th>\n",
       "      <th></th>\n",
       "      <th></th>\n",
       "    </tr>\n",
       "  </thead>\n",
       "  <tbody>\n",
       "    <tr>\n",
       "      <th>female</th>\n",
       "      <td>662.0</td>\n",
       "      <td>12569.578844</td>\n",
       "      <td>11128.703801</td>\n",
       "      <td>1607.5101</td>\n",
       "      <td>4885.1587</td>\n",
       "      <td>9412.96250</td>\n",
       "      <td>14454.691825</td>\n",
       "      <td>63770.42801</td>\n",
       "    </tr>\n",
       "    <tr>\n",
       "      <th>male</th>\n",
       "      <td>676.0</td>\n",
       "      <td>13956.751178</td>\n",
       "      <td>12971.025915</td>\n",
       "      <td>1121.8739</td>\n",
       "      <td>4619.1340</td>\n",
       "      <td>9369.61575</td>\n",
       "      <td>18989.590250</td>\n",
       "      <td>62592.87309</td>\n",
       "    </tr>\n",
       "  </tbody>\n",
       "</table>\n",
       "</div>"
      ],
      "text/plain": [
       "       charges                                                                \\\n",
       "         count          mean           std        min        25%         50%   \n",
       "sex                                                                            \n",
       "female   662.0  12569.578844  11128.703801  1607.5101  4885.1587  9412.96250   \n",
       "male     676.0  13956.751178  12971.025915  1121.8739  4619.1340  9369.61575   \n",
       "\n",
       "                                   \n",
       "                 75%          max  \n",
       "sex                                \n",
       "female  14454.691825  63770.42801  \n",
       "male    18989.590250  62592.87309  "
      ]
     },
     "execution_count": 18,
     "metadata": {},
     "output_type": "execute_result"
    }
   ],
   "source": [
    "med_df[['charges','sex']].groupby(by = 'sex').describe()"
   ]
  },
  {
   "cell_type": "markdown",
   "id": "2997d655",
   "metadata": {},
   "source": [
    "**Observations**\n",
    "- Females slightly higher in insurance charges "
   ]
  },
  {
   "cell_type": "code",
   "execution_count": 19,
   "id": "5c9c4fb1",
   "metadata": {},
   "outputs": [
    {
     "data": {
      "text/html": [
       "<div>\n",
       "<style scoped>\n",
       "    .dataframe tbody tr th:only-of-type {\n",
       "        vertical-align: middle;\n",
       "    }\n",
       "\n",
       "    .dataframe tbody tr th {\n",
       "        vertical-align: top;\n",
       "    }\n",
       "\n",
       "    .dataframe thead tr th {\n",
       "        text-align: left;\n",
       "    }\n",
       "\n",
       "    .dataframe thead tr:last-of-type th {\n",
       "        text-align: right;\n",
       "    }\n",
       "</style>\n",
       "<table border=\"1\" class=\"dataframe\">\n",
       "  <thead>\n",
       "    <tr>\n",
       "      <th></th>\n",
       "      <th colspan=\"8\" halign=\"left\">charges</th>\n",
       "    </tr>\n",
       "    <tr>\n",
       "      <th></th>\n",
       "      <th>count</th>\n",
       "      <th>mean</th>\n",
       "      <th>std</th>\n",
       "      <th>min</th>\n",
       "      <th>25%</th>\n",
       "      <th>50%</th>\n",
       "      <th>75%</th>\n",
       "      <th>max</th>\n",
       "    </tr>\n",
       "    <tr>\n",
       "      <th>region</th>\n",
       "      <th></th>\n",
       "      <th></th>\n",
       "      <th></th>\n",
       "      <th></th>\n",
       "      <th></th>\n",
       "      <th></th>\n",
       "      <th></th>\n",
       "      <th></th>\n",
       "    </tr>\n",
       "  </thead>\n",
       "  <tbody>\n",
       "    <tr>\n",
       "      <th>northeast</th>\n",
       "      <td>324.0</td>\n",
       "      <td>13406.384516</td>\n",
       "      <td>11255.803066</td>\n",
       "      <td>1694.7964</td>\n",
       "      <td>5194.322288</td>\n",
       "      <td>10057.652025</td>\n",
       "      <td>16687.3641</td>\n",
       "      <td>58571.07448</td>\n",
       "    </tr>\n",
       "    <tr>\n",
       "      <th>northwest</th>\n",
       "      <td>325.0</td>\n",
       "      <td>12417.575374</td>\n",
       "      <td>11072.276928</td>\n",
       "      <td>1621.3402</td>\n",
       "      <td>4719.736550</td>\n",
       "      <td>8965.795750</td>\n",
       "      <td>14711.7438</td>\n",
       "      <td>60021.39897</td>\n",
       "    </tr>\n",
       "    <tr>\n",
       "      <th>southeast</th>\n",
       "      <td>364.0</td>\n",
       "      <td>14735.411438</td>\n",
       "      <td>13971.098589</td>\n",
       "      <td>1121.8739</td>\n",
       "      <td>4440.886200</td>\n",
       "      <td>9294.131950</td>\n",
       "      <td>19526.2869</td>\n",
       "      <td>63770.42801</td>\n",
       "    </tr>\n",
       "    <tr>\n",
       "      <th>southwest</th>\n",
       "      <td>325.0</td>\n",
       "      <td>12346.937377</td>\n",
       "      <td>11557.179101</td>\n",
       "      <td>1241.5650</td>\n",
       "      <td>4751.070000</td>\n",
       "      <td>8798.593000</td>\n",
       "      <td>13462.5200</td>\n",
       "      <td>52590.82939</td>\n",
       "    </tr>\n",
       "  </tbody>\n",
       "</table>\n",
       "</div>"
      ],
      "text/plain": [
       "          charges                                                      \\\n",
       "            count          mean           std        min          25%   \n",
       "region                                                                  \n",
       "northeast   324.0  13406.384516  11255.803066  1694.7964  5194.322288   \n",
       "northwest   325.0  12417.575374  11072.276928  1621.3402  4719.736550   \n",
       "southeast   364.0  14735.411438  13971.098589  1121.8739  4440.886200   \n",
       "southwest   325.0  12346.937377  11557.179101  1241.5650  4751.070000   \n",
       "\n",
       "                                                  \n",
       "                    50%         75%          max  \n",
       "region                                            \n",
       "northeast  10057.652025  16687.3641  58571.07448  \n",
       "northwest   8965.795750  14711.7438  60021.39897  \n",
       "southeast   9294.131950  19526.2869  63770.42801  \n",
       "southwest   8798.593000  13462.5200  52590.82939  "
      ]
     },
     "execution_count": 19,
     "metadata": {},
     "output_type": "execute_result"
    }
   ],
   "source": [
    "med_df[['charges','region']].groupby(by = 'region').describe()"
   ]
  },
  {
   "cell_type": "markdown",
   "id": "3ac37332",
   "metadata": {},
   "source": [
    "**observations**\n",
    "- charges are higher in northeast both mean and median\n"
   ]
  },
  {
   "cell_type": "code",
   "execution_count": 20,
   "id": "19d7d6e6",
   "metadata": {},
   "outputs": [
    {
     "data": {
      "text/html": [
       "<div>\n",
       "<style scoped>\n",
       "    .dataframe tbody tr th:only-of-type {\n",
       "        vertical-align: middle;\n",
       "    }\n",
       "\n",
       "    .dataframe tbody tr th {\n",
       "        vertical-align: top;\n",
       "    }\n",
       "\n",
       "    .dataframe thead tr th {\n",
       "        text-align: left;\n",
       "    }\n",
       "\n",
       "    .dataframe thead tr:last-of-type th {\n",
       "        text-align: right;\n",
       "    }\n",
       "</style>\n",
       "<table border=\"1\" class=\"dataframe\">\n",
       "  <thead>\n",
       "    <tr>\n",
       "      <th></th>\n",
       "      <th colspan=\"8\" halign=\"left\">charges</th>\n",
       "    </tr>\n",
       "    <tr>\n",
       "      <th></th>\n",
       "      <th>count</th>\n",
       "      <th>mean</th>\n",
       "      <th>std</th>\n",
       "      <th>min</th>\n",
       "      <th>25%</th>\n",
       "      <th>50%</th>\n",
       "      <th>75%</th>\n",
       "      <th>max</th>\n",
       "    </tr>\n",
       "    <tr>\n",
       "      <th>smoker</th>\n",
       "      <th></th>\n",
       "      <th></th>\n",
       "      <th></th>\n",
       "      <th></th>\n",
       "      <th></th>\n",
       "      <th></th>\n",
       "      <th></th>\n",
       "      <th></th>\n",
       "    </tr>\n",
       "  </thead>\n",
       "  <tbody>\n",
       "    <tr>\n",
       "      <th>no</th>\n",
       "      <td>1064.0</td>\n",
       "      <td>8434.268298</td>\n",
       "      <td>5993.781819</td>\n",
       "      <td>1121.8739</td>\n",
       "      <td>3986.438700</td>\n",
       "      <td>7345.40530</td>\n",
       "      <td>11362.887050</td>\n",
       "      <td>36910.60803</td>\n",
       "    </tr>\n",
       "    <tr>\n",
       "      <th>yes</th>\n",
       "      <td>274.0</td>\n",
       "      <td>32050.231832</td>\n",
       "      <td>11541.547176</td>\n",
       "      <td>12829.4551</td>\n",
       "      <td>20826.244213</td>\n",
       "      <td>34456.34845</td>\n",
       "      <td>41019.207275</td>\n",
       "      <td>63770.42801</td>\n",
       "    </tr>\n",
       "  </tbody>\n",
       "</table>\n",
       "</div>"
      ],
      "text/plain": [
       "       charges                                                        \\\n",
       "         count          mean           std         min           25%   \n",
       "smoker                                                                 \n",
       "no      1064.0   8434.268298   5993.781819   1121.8739   3986.438700   \n",
       "yes      274.0  32050.231832  11541.547176  12829.4551  20826.244213   \n",
       "\n",
       "                                                \n",
       "                50%           75%          max  \n",
       "smoker                                          \n",
       "no       7345.40530  11362.887050  36910.60803  \n",
       "yes     34456.34845  41019.207275  63770.42801  "
      ]
     },
     "execution_count": 20,
     "metadata": {},
     "output_type": "execute_result"
    }
   ],
   "source": [
    "med_df[['charges','smoker']].groupby(by = 'smoker').describe()"
   ]
  },
  {
   "cell_type": "markdown",
   "id": "c452c894",
   "metadata": {},
   "source": [
    "**Observation**\n",
    "- smoker and non-smoker has a big difference in Insurance charges **roughly , 4 times** the non smoker "
   ]
  },
  {
   "cell_type": "code",
   "execution_count": 21,
   "id": "f7a3bcb7",
   "metadata": {},
   "outputs": [
    {
     "data": {
      "image/png": "[encoded data removed]",
      "text/plain": [
       "<Figure size 1080x720 with 1 Axes>"
      ]
     },
     "metadata": {
      "needs_background": "light"
     },
     "output_type": "display_data"
    }
   ],
   "source": [
    "import seaborn as sns\n",
    "%matplotlib inline\n",
    "plt.rcParams['figure.figsize']=(15,10)\n",
    "sns.boxplot(x = 'children', y = 'charges', data =med_df )\n",
    "\n",
    "plt.show()"
   ]
  },
  {
   "cell_type": "code",
   "execution_count": 22,
   "id": "5901ed2d",
   "metadata": {},
   "outputs": [
    {
     "data": {
      "image/png": "[encoded data removed]",
      "text/plain": [
       "<Figure size 1080x720 with 1 Axes>"
      ]
     },
     "metadata": {
      "needs_background": "light"
     },
     "output_type": "display_data"
    }
   ],
   "source": [
    "import seaborn as sns\n",
    "%matplotlib inline\n",
    "plt.rcParams['figure.figsize']=(15,10)\n",
    "sns.boxplot(x = 'region', y = 'charges', data =med_df )\n",
    "\n",
    "plt.show()"
   ]
  },
  {
   "cell_type": "code",
   "execution_count": 23,
   "id": "c78f9570",
   "metadata": {},
   "outputs": [
    {
     "data": {
      "text/html": [
       "<div>\n",
       "<style scoped>\n",
       "    .dataframe tbody tr th:only-of-type {\n",
       "        vertical-align: middle;\n",
       "    }\n",
       "\n",
       "    .dataframe tbody tr th {\n",
       "        vertical-align: top;\n",
       "    }\n",
       "\n",
       "    .dataframe thead th {\n",
       "        text-align: right;\n",
       "    }\n",
       "</style>\n",
       "<table border=\"1\" class=\"dataframe\">\n",
       "  <thead>\n",
       "    <tr style=\"text-align: right;\">\n",
       "      <th></th>\n",
       "      <th>age</th>\n",
       "      <th>bmi</th>\n",
       "      <th>children</th>\n",
       "      <th>charges</th>\n",
       "      <th>region_northwest</th>\n",
       "      <th>region_southeast</th>\n",
       "      <th>region_southwest</th>\n",
       "      <th>sex_male</th>\n",
       "      <th>smoker_yes</th>\n",
       "    </tr>\n",
       "  </thead>\n",
       "  <tbody>\n",
       "    <tr>\n",
       "      <th>0</th>\n",
       "      <td>19</td>\n",
       "      <td>27.900</td>\n",
       "      <td>0</td>\n",
       "      <td>16884.92400</td>\n",
       "      <td>0</td>\n",
       "      <td>0</td>\n",
       "      <td>1</td>\n",
       "      <td>0</td>\n",
       "      <td>1</td>\n",
       "    </tr>\n",
       "    <tr>\n",
       "      <th>1</th>\n",
       "      <td>18</td>\n",
       "      <td>33.770</td>\n",
       "      <td>1</td>\n",
       "      <td>1725.55230</td>\n",
       "      <td>0</td>\n",
       "      <td>1</td>\n",
       "      <td>0</td>\n",
       "      <td>1</td>\n",
       "      <td>0</td>\n",
       "    </tr>\n",
       "    <tr>\n",
       "      <th>2</th>\n",
       "      <td>28</td>\n",
       "      <td>33.000</td>\n",
       "      <td>3</td>\n",
       "      <td>4449.46200</td>\n",
       "      <td>0</td>\n",
       "      <td>1</td>\n",
       "      <td>0</td>\n",
       "      <td>1</td>\n",
       "      <td>0</td>\n",
       "    </tr>\n",
       "    <tr>\n",
       "      <th>3</th>\n",
       "      <td>33</td>\n",
       "      <td>22.705</td>\n",
       "      <td>0</td>\n",
       "      <td>21984.47061</td>\n",
       "      <td>1</td>\n",
       "      <td>0</td>\n",
       "      <td>0</td>\n",
       "      <td>1</td>\n",
       "      <td>0</td>\n",
       "    </tr>\n",
       "    <tr>\n",
       "      <th>4</th>\n",
       "      <td>32</td>\n",
       "      <td>28.880</td>\n",
       "      <td>0</td>\n",
       "      <td>3866.85520</td>\n",
       "      <td>1</td>\n",
       "      <td>0</td>\n",
       "      <td>0</td>\n",
       "      <td>1</td>\n",
       "      <td>0</td>\n",
       "    </tr>\n",
       "  </tbody>\n",
       "</table>\n",
       "</div>"
      ],
      "text/plain": [
       "   age     bmi  children      charges  region_northwest  region_southeast  \\\n",
       "0   19  27.900         0  16884.92400                 0                 0   \n",
       "1   18  33.770         1   1725.55230                 0                 1   \n",
       "2   28  33.000         3   4449.46200                 0                 1   \n",
       "3   33  22.705         0  21984.47061                 1                 0   \n",
       "4   32  28.880         0   3866.85520                 1                 0   \n",
       "\n",
       "   region_southwest  sex_male  smoker_yes  \n",
       "0                 1         0           1  \n",
       "1                 0         1           0  \n",
       "2                 0         1           0  \n",
       "3                 0         1           0  \n",
       "4                 0         1           0  "
      ]
     },
     "execution_count": 23,
     "metadata": {},
     "output_type": "execute_result"
    }
   ],
   "source": [
    "# Creating a dummy variable for some of the categorical variables and dropping the first one.\n",
    "med_df = pd.get_dummies(med_df, columns= ['region','sex','smoker'], drop_first=True)\n",
    "\n",
    "med_df.head()"
   ]
  },
  {
   "cell_type": "code",
   "execution_count": 24,
   "id": "4975815e",
   "metadata": {},
   "outputs": [
    {
     "data": {
      "text/plain": [
       "Text(0.5, 1.0, 'Correlation between features')"
      ]
     },
     "execution_count": 24,
     "metadata": {},
     "output_type": "execute_result"
    },
    {
     "data": {
      "image/png": "[encoded data removed]",
      "text/plain": [
       "<Figure size 720x720 with 2 Axes>"
      ]
     },
     "metadata": {
      "needs_background": "light"
     },
     "output_type": "display_data"
    }
   ],
   "source": [
    "#feature selection\n",
    "#Sal['phd']=np.cbrt(Sal['phd'])\n",
    "#Sal['salary']=np.cbrt(Sal['salary'])\n",
    "corr = med_df.corr()\n",
    "plt.figure(figsize=(10,10))\n",
    "sns.heatmap(corr,vmax=.8,linewidth=.01, square = True, annot = True,cmap='YlGnBu',linecolor ='black')\n",
    "plt.title('Correlation between features')"
   ]
  },
  {
   "cell_type": "code",
   "execution_count": 25,
   "id": "3a9645f2",
   "metadata": {},
   "outputs": [
    {
     "name": "stdout",
     "output_type": "stream",
     "text": [
      "   age     bmi  region_northwest  region_southeast  region_southwest  \\\n",
      "0   19  27.900                 0                 0                 1   \n",
      "1   18  33.770                 0                 1                 0   \n",
      "2   28  33.000                 0                 1                 0   \n",
      "3   33  22.705                 1                 0                 0   \n",
      "4   32  28.880                 1                 0                 0   \n",
      "\n",
      "   sex_male  smoker_yes  \n",
      "0         0           1  \n",
      "1         1           0  \n",
      "2         1           0  \n",
      "3         1           0  \n",
      "4         1           0  \n"
     ]
    }
   ],
   "source": [
    "X = pd.DataFrame()\n",
    "def lr():\n",
    "    X=med_df.drop(['charges','children'], axis=1)# write your code to create a dataframe of dependent variables excluding 'y' variable\n",
    "    return X\n",
    "X = lr()\n",
    " \n",
    "print(X.head())\n"
   ]
  },
  {
   "cell_type": "code",
   "execution_count": 26,
   "id": "49df639e",
   "metadata": {},
   "outputs": [],
   "source": [
    "y = pd.DataFrame()\n",
    "\n",
    "def lr():\n",
    "    y = med_df['charges'] # write your code to create a dataframe which consists only of dependepent variable\n",
    "    return y\n",
    "y = lr()\n"
   ]
  },
  {
   "cell_type": "code",
   "execution_count": 27,
   "id": "d0b44752",
   "metadata": {},
   "outputs": [],
   "source": [
    "from sklearn.model_selection import train_test_split \n",
    "def lr():\n",
    "    return train_test_split(X, y, test_size=0.15, random_state=0)  # train test split using train_test_split of 75:25 and random state=1\n",
    "X_train, X_test, y_train, y_test = lr()"
   ]
  },
  {
   "cell_type": "code",
   "execution_count": 28,
   "id": "ea48ccf3",
   "metadata": {},
   "outputs": [
    {
     "data": {
      "text/html": [
       "<div>\n",
       "<style scoped>\n",
       "    .dataframe tbody tr th:only-of-type {\n",
       "        vertical-align: middle;\n",
       "    }\n",
       "\n",
       "    .dataframe tbody tr th {\n",
       "        vertical-align: top;\n",
       "    }\n",
       "\n",
       "    .dataframe thead th {\n",
       "        text-align: right;\n",
       "    }\n",
       "</style>\n",
       "<table border=\"1\" class=\"dataframe\">\n",
       "  <thead>\n",
       "    <tr style=\"text-align: right;\">\n",
       "      <th></th>\n",
       "      <th>age</th>\n",
       "      <th>bmi</th>\n",
       "      <th>region_northwest</th>\n",
       "      <th>region_southeast</th>\n",
       "      <th>region_southwest</th>\n",
       "      <th>sex_male</th>\n",
       "      <th>smoker_yes</th>\n",
       "    </tr>\n",
       "  </thead>\n",
       "  <tbody>\n",
       "    <tr>\n",
       "      <th>420</th>\n",
       "      <td>64</td>\n",
       "      <td>33.880</td>\n",
       "      <td>0</td>\n",
       "      <td>1</td>\n",
       "      <td>0</td>\n",
       "      <td>1</td>\n",
       "      <td>1</td>\n",
       "    </tr>\n",
       "    <tr>\n",
       "      <th>27</th>\n",
       "      <td>55</td>\n",
       "      <td>32.775</td>\n",
       "      <td>1</td>\n",
       "      <td>0</td>\n",
       "      <td>0</td>\n",
       "      <td>0</td>\n",
       "      <td>0</td>\n",
       "    </tr>\n",
       "    <tr>\n",
       "      <th>982</th>\n",
       "      <td>31</td>\n",
       "      <td>25.900</td>\n",
       "      <td>0</td>\n",
       "      <td>0</td>\n",
       "      <td>1</td>\n",
       "      <td>1</td>\n",
       "      <td>1</td>\n",
       "    </tr>\n",
       "    <tr>\n",
       "      <th>1005</th>\n",
       "      <td>29</td>\n",
       "      <td>31.730</td>\n",
       "      <td>1</td>\n",
       "      <td>0</td>\n",
       "      <td>0</td>\n",
       "      <td>1</td>\n",
       "      <td>0</td>\n",
       "    </tr>\n",
       "    <tr>\n",
       "      <th>615</th>\n",
       "      <td>47</td>\n",
       "      <td>36.630</td>\n",
       "      <td>0</td>\n",
       "      <td>1</td>\n",
       "      <td>0</td>\n",
       "      <td>0</td>\n",
       "      <td>1</td>\n",
       "    </tr>\n",
       "  </tbody>\n",
       "</table>\n",
       "</div>"
      ],
      "text/plain": [
       "      age     bmi  region_northwest  region_southeast  region_southwest  \\\n",
       "420    64  33.880                 0                 1                 0   \n",
       "27     55  32.775                 1                 0                 0   \n",
       "982    31  25.900                 0                 0                 1   \n",
       "1005   29  31.730                 1                 0                 0   \n",
       "615    47  36.630                 0                 1                 0   \n",
       "\n",
       "      sex_male  smoker_yes  \n",
       "420          1           1  \n",
       "27           0           0  \n",
       "982          1           1  \n",
       "1005         1           0  \n",
       "615          0           1  "
      ]
     },
     "execution_count": 28,
     "metadata": {},
     "output_type": "execute_result"
    }
   ],
   "source": [
    "X_train.head()"
   ]
  },
  {
   "cell_type": "code",
   "execution_count": 29,
   "id": "44f15806",
   "metadata": {},
   "outputs": [
    {
     "name": "stdout",
     "output_type": "stream",
     "text": [
      "After standardizing our features, the first 5 rows of our data now look like this:\n",
      "\n"
     ]
    },
    {
     "data": {
      "text/html": [
       "<div>\n",
       "<style scoped>\n",
       "    .dataframe tbody tr th:only-of-type {\n",
       "        vertical-align: middle;\n",
       "    }\n",
       "\n",
       "    .dataframe tbody tr th {\n",
       "        vertical-align: top;\n",
       "    }\n",
       "\n",
       "    .dataframe thead th {\n",
       "        text-align: right;\n",
       "    }\n",
       "</style>\n",
       "<table border=\"1\" class=\"dataframe\">\n",
       "  <thead>\n",
       "    <tr style=\"text-align: right;\">\n",
       "      <th></th>\n",
       "      <th>age</th>\n",
       "      <th>bmi</th>\n",
       "      <th>region_northwest</th>\n",
       "      <th>region_southeast</th>\n",
       "      <th>region_southwest</th>\n",
       "      <th>sex_male</th>\n",
       "      <th>smoker_yes</th>\n",
       "    </tr>\n",
       "  </thead>\n",
       "  <tbody>\n",
       "    <tr>\n",
       "      <th>0</th>\n",
       "      <td>0.916602</td>\n",
       "      <td>-0.079176</td>\n",
       "      <td>-0.552627</td>\n",
       "      <td>-0.614965</td>\n",
       "      <td>1.716950</td>\n",
       "      <td>1.018643</td>\n",
       "      <td>-0.502198</td>\n",
       "    </tr>\n",
       "    <tr>\n",
       "      <th>1</th>\n",
       "      <td>0.561492</td>\n",
       "      <td>-0.213987</td>\n",
       "      <td>-0.552627</td>\n",
       "      <td>1.626109</td>\n",
       "      <td>-0.582428</td>\n",
       "      <td>-0.981698</td>\n",
       "      <td>-0.502198</td>\n",
       "    </tr>\n",
       "    <tr>\n",
       "      <th>2</th>\n",
       "      <td>0.632514</td>\n",
       "      <td>1.604329</td>\n",
       "      <td>1.809540</td>\n",
       "      <td>-0.614965</td>\n",
       "      <td>-0.582428</td>\n",
       "      <td>1.018643</td>\n",
       "      <td>1.991247</td>\n",
       "    </tr>\n",
       "    <tr>\n",
       "      <th>3</th>\n",
       "      <td>1.555800</td>\n",
       "      <td>1.249437</td>\n",
       "      <td>1.809540</td>\n",
       "      <td>-0.614965</td>\n",
       "      <td>-0.582428</td>\n",
       "      <td>1.018643</td>\n",
       "      <td>-0.502198</td>\n",
       "    </tr>\n",
       "    <tr>\n",
       "      <th>4</th>\n",
       "      <td>0.845580</td>\n",
       "      <td>-2.052605</td>\n",
       "      <td>1.809540</td>\n",
       "      <td>-0.614965</td>\n",
       "      <td>-0.582428</td>\n",
       "      <td>-0.981698</td>\n",
       "      <td>-0.502198</td>\n",
       "    </tr>\n",
       "  </tbody>\n",
       "</table>\n",
       "</div>"
      ],
      "text/plain": [
       "        age       bmi  region_northwest  region_southeast  region_southwest  \\\n",
       "0  0.916602 -0.079176         -0.552627         -0.614965          1.716950   \n",
       "1  0.561492 -0.213987         -0.552627          1.626109         -0.582428   \n",
       "2  0.632514  1.604329          1.809540         -0.614965         -0.582428   \n",
       "3  1.555800  1.249437          1.809540         -0.614965         -0.582428   \n",
       "4  0.845580 -2.052605          1.809540         -0.614965         -0.582428   \n",
       "\n",
       "   sex_male  smoker_yes  \n",
       "0  1.018643   -0.502198  \n",
       "1 -0.981698   -0.502198  \n",
       "2  1.018643    1.991247  \n",
       "3  1.018643   -0.502198  \n",
       "4 -0.981698   -0.502198  "
      ]
     },
     "execution_count": 29,
     "metadata": {},
     "output_type": "execute_result"
    }
   ],
   "source": [
    "\n",
    "from sklearn.preprocessing import StandardScaler #mean = 0 and SD = 1 \n",
    "sc = StandardScaler()\n",
    "sc.fit(X_train)                                                                                   # fit the data to Standardscaler\n",
    "\n",
    "X_test = sc.transform(X_test) \n",
    "X_train = sc.transform(X_train)    # transform the data\n",
    "\n",
    "print('After standardizing our features, the first 5 rows of our data now look like this:\\n')   # print the first 5 value after standardization\n",
    "X_train = pd.DataFrame(X_train)\n",
    "X_train.columns = ['age','bmi','region_northwest','region_southeast','region_southwest','sex_male','smoker_yes']\n",
    "X_test = pd.DataFrame(X_test)\n",
    "X_test.columns = ['age','bmi','region_northwest','region_southeast','region_southwest','sex_male','smoker_yes']\n",
    "X_train.head()\n",
    "X_test.head()"
   ]
  },
  {
   "cell_type": "code",
   "execution_count": 30,
   "id": "d9d86e92",
   "metadata": {},
   "outputs": [
    {
     "data": {
      "text/plain": [
       "array([11199.08113821,  9519.84229433, 37820.19985726, 16665.06405845,\n",
       "        7401.57807555,  4603.65432687,  2129.26100946, 13438.58342201,\n",
       "        8087.49268326,  6599.82001559,  3804.28703143,  9836.41937179,\n",
       "        8785.92161309,  4280.65460699, 28487.97415252,  9887.10594704,\n",
       "       11780.42736987,  6221.60722105,  7792.06626303, 27849.55339701,\n",
       "       33393.41944974, 13870.1445813 , 12308.28330844, 32766.38227994,\n",
       "        4605.38210025,  9348.21763757,  1709.91068969,  8928.49786076,\n",
       "        4241.05169549,  9985.2667648 ,  8097.46208065, 40228.90068693,\n",
       "       16121.99488969, 14302.50592695, 25506.13387394,  5723.69710442,\n",
       "       12179.48997358, 30868.74504247, 33196.09669805,  4035.27489145,\n",
       "        4596.25194002,  4472.3517445 , 31291.20346015, 39183.79930303,\n",
       "       28334.84431008,  4561.97255617,  9778.44972864,  7843.28487826,\n",
       "        3753.0684162 , 10297.35668328,  6220.56116117,  2487.53500921,\n",
       "       33207.41563791, 37839.85071342, 16456.23447853,  7701.7281795 ,\n",
       "        6169.55624136,  9916.35079694,  7248.66514815, 11780.42736987,\n",
       "        2282.8215812 , 38202.78384347, 14086.55363005, 11380.08327619,\n",
       "       12868.75306597, 13988.61588291, 26434.31498864, 31448.21606941,\n",
       "         421.16319139,  8834.2697352 , 12820.19617873, 11618.60308831,\n",
       "       25830.68140659, 16066.28877449, 11669.21612428, 13255.27569099,\n",
       "        7066.57754834,  9206.16916533, 30481.86676731, 39258.18657088,\n",
       "       12641.0203077 , 37794.01872166,  4646.88868001,  9412.51830226,\n",
       "       35127.28034958, 28632.82064685,  8562.89200277,  5323.7037042 ,\n",
       "       12096.6385509 , 31017.00417237,  9268.28621243, 11865.97254468,\n",
       "        8858.03547619,  8502.33341725,  8982.82918959,  7422.776806  ,\n",
       "       36782.36757676, 32910.89737812,  7145.48499941, 15545.51299285,\n",
       "        4462.1992284 ,  8783.05111997,  5865.81871342, 32149.42254709,\n",
       "       32253.7634458 ,  2402.29331698,  9552.95791755,  7036.69144198,\n",
       "       15170.74712517, 37850.54887105,  9293.32139851, 10087.94844776,\n",
       "       10201.80781978, 27683.18489738, 40044.42281757,  8209.4314475 ,\n",
       "         331.99434873,  9503.29404931, 15257.54672249,  8676.49900468,\n",
       "       34443.04773556,  7750.64079917, 17372.37054611,  8869.05093346,\n",
       "        8250.91783248,  2506.10217572, 33221.77831279, 31236.4834671 ,\n",
       "       40188.30387295,  5955.65644013,  8899.04746536,  3584.48905114,\n",
       "        7657.45780742,  9286.52781054, 32334.59859998, 30556.22151605,\n",
       "       30457.29430828,  8365.91888947, 32667.87857764,  3338.12091989,\n",
       "        4056.51073031, 11599.10477415, 12727.84732362, 13461.6980262 ,\n",
       "        5457.4207551 , 16031.76212104, 14936.73950697,  1944.43703593,\n",
       "         471.71846434, 11053.15185171,  7546.52445952, 32387.7249492 ,\n",
       "       12539.62913713,  2353.05190929,  6334.95292432,  7878.15441624,\n",
       "        4396.65011642,  2135.73947249, 10462.01578075, 11604.41504124,\n",
       "        6508.11030378, 16842.5620015 , 12263.53271279, 14071.83992073,\n",
       "        3794.31763404,  6086.51854187, 23714.22325998,  6823.4755188 ,\n",
       "        5652.21412602,  5559.14793752,  6267.08301633,  4917.82415963,\n",
       "        9520.0080969 ,  5803.98467466,  4851.42570803,  5334.83314762,\n",
       "        3447.67259857,  5607.46353037, 37521.74224185,  2084.07315281,\n",
       "       12161.09548233,  8068.59994837, 14205.29926872,  5845.27967218,\n",
       "        4947.7323518 , 37255.1779539 ,  4950.47560836,  2018.5954054 ,\n",
       "       15630.4122955 , 12355.88885325, 35881.60911075,  4341.24748381,\n",
       "        5682.31370565, 31916.19640302,  6569.91182342,  2604.08021576,\n",
       "        8153.22813358,  9241.99109068,  7550.94459912,  5786.54468394,\n",
       "       13287.92713972])"
      ]
     },
     "execution_count": 30,
     "metadata": {},
     "output_type": "execute_result"
    }
   ],
   "source": [
    "from sklearn.linear_model import LinearRegression\n",
    "# import a class - knowhow\n",
    "\n",
    "linreg = LinearRegression()\n",
    "# create an object - actual computation\n",
    "\n",
    "linreg.fit(X_train,y_train) \n",
    "#training the model\n",
    "#calculation of b0 and b1\n",
    "# physical act of computing\n",
    "\n",
    "y_pred_train = linreg.predict(X_train)\n",
    "y_pred_test = linreg.predict(X_test) \n",
    "#predict\n",
    "y_pred_test"
   ]
  },
  {
   "cell_type": "code",
   "execution_count": 31,
   "id": "c90113ef",
   "metadata": {},
   "outputs": [
    {
     "name": "stdout",
     "output_type": "stream",
     "text": [
      "RMSE for training set is 6092.623375257843\n",
      "RMSE for test set is 5940.0913694534\n"
     ]
    }
   ],
   "source": [
    "from sklearn import metrics\n",
    "\n",
    "RMSE_train = np.sqrt( metrics.mean_squared_error(y_train, y_pred_train))\n",
    "RMSE_test = np.sqrt(metrics.mean_squared_error(y_test, y_pred_test))\n",
    "print('RMSE for training set is {}'.format(RMSE_train))\n",
    "print('RMSE for test set is {}'.format(RMSE_test))"
   ]
  },
  {
   "cell_type": "code",
   "execution_count": 32,
   "id": "82f22c5d",
   "metadata": {},
   "outputs": [],
   "source": [
    "# import the regressor\n",
    "from sklearn.ensemble import RandomForestRegressor\n",
    "\n",
    "from sklearn.metrics import r2_score,mean_squared_error\n",
    "# create regressor object\n",
    "regressor = RandomForestRegressor(n_estimators = 10000, random_state = 42, max_depth=110,\n",
    "                       max_leaf_nodes=None, max_samples=None,\n",
    "                       min_samples_leaf=5, min_samples_split=12,)"
   ]
  },
  {
   "cell_type": "code",
   "execution_count": 33,
   "id": "8296c9e6",
   "metadata": {},
   "outputs": [
    {
     "data": {
      "text/plain": [
       "RandomForestRegressor(max_depth=110, min_samples_leaf=5, min_samples_split=12,\n",
       "                      n_estimators=10000, random_state=42)"
      ]
     },
     "execution_count": 33,
     "metadata": {},
     "output_type": "execute_result"
    }
   ],
   "source": [
    "def Forest():\n",
    "    return regressor.fit(X_train,y_train)# the fitted model on X_train and y_train\n",
    "Forest()"
   ]
  },
  {
   "cell_type": "code",
   "execution_count": 34,
   "id": "1b81629a",
   "metadata": {},
   "outputs": [
    {
     "data": {
      "text/plain": [
       "array([46166.56002076, 12870.8546891 , 19175.85570232, ...,\n",
       "        6570.37909746,  3317.97900771,  6761.32686904])"
      ]
     },
     "metadata": {},
     "output_type": "display_data"
    }
   ],
   "source": [
    "\n",
    "y_train_pred=regressor.predict(X_train)\n",
    "\n",
    "y_train_pred_df= pd.DataFrame(y_train_pred)\n",
    "display(y_train_pred)\n"
   ]
  },
  {
   "cell_type": "code",
   "execution_count": 35,
   "id": "7c7422dd",
   "metadata": {},
   "outputs": [
    {
     "data": {
      "text/plain": [
       "array([11279.83952313, 10370.03592406, 45117.71023734, 15143.7887839 ,\n",
       "       11095.46354584,  7306.11661607,  2540.79115741, 12338.3782836 ,\n",
       "        6739.38859707,  5112.1871142 ,  7064.99890609, 13397.63980007,\n",
       "        9253.38651808,  7378.03729371, 20457.19955948, 11300.18860636,\n",
       "       14406.277138  ,  6242.21166828,  6762.12452244, 34442.39567116,\n",
       "       24462.82532053, 12400.91258205, 12939.53528717, 27388.10681234,\n",
       "        4278.0844282 ,  6549.0700916 ,  6609.83055119,  7313.885373  ,\n",
       "        4658.54334939, 10026.1886533 ,  7643.18550387, 49120.24144368,\n",
       "       16791.22413623, 12782.21426661, 15754.60386962,  4743.00023949,\n",
       "        8574.82146205, 38046.29373513, 40066.04949444,  4312.85237634,\n",
       "        6958.84405962,  5173.71792073, 20370.36709929, 48545.78820631,\n",
       "       37844.16870489,  3468.78632494, 11421.01937614,  6731.77089652,\n",
       "        5715.94186046, 12918.23979853,  4993.96547476,  5017.62157087,\n",
       "       28130.22178912, 46353.95982728, 12354.11830844,  7093.16452699,\n",
       "        3981.10927615, 13460.94789188,  7913.61881054, 14406.277138  ,\n",
       "        2931.47887339, 45999.52564692, 15236.93757769, 11085.76690811,\n",
       "       12154.26841711, 10359.35262689, 34443.6984527 , 39254.01146927,\n",
       "        3283.97932053,  6993.11409574, 15133.70711628, 12861.60098253,\n",
       "       18126.39864967, 17642.03056206, 14087.05345893, 14946.13459494,\n",
       "        9410.39414645,  9946.32478979, 20329.7304331 , 48228.51589871,\n",
       "       12143.22700813, 45857.39777624,  3340.65627075,  9401.45072445,\n",
       "       41027.99870387, 19861.73621532,  4135.01043452,  5089.72283215,\n",
       "       13540.16779755, 38859.52033005,  6190.26184863, 11965.85682923,\n",
       "        4559.12845583, 10781.01795818,  7464.11904591,  5495.2940344 ,\n",
       "       45258.90083814, 41870.04885039,  6057.90032148, 11952.18049381,\n",
       "        4589.49985201,  7109.25045918,  5818.85596967, 39430.02526408,\n",
       "       25511.56385467,  5308.51846958, 11480.71222993,  7123.40490975,\n",
       "       12225.62625473, 45744.9126816 , 12436.15548597,  6049.84442088,\n",
       "       11271.98196409, 34829.01194111, 49026.19935845,  6755.43156503,\n",
       "        2098.95342579, 12744.68864032, 16637.12996515,  9976.63417732,\n",
       "       42383.16480308, 13041.65688675, 15519.55929054,  7041.94805378,\n",
       "       10097.70558782,  5790.71502491, 25882.84064525, 24118.98726461,\n",
       "       48990.37108276,  3333.99434358, 10601.20210416,  3670.96470941,\n",
       "        6549.36579502, 10409.16543289, 35446.52336962, 39420.84614111,\n",
       "       22084.44596727, 11119.07637009, 24273.64476292,  6280.83593826,\n",
       "        3207.56096619, 12886.6167282 ,  9226.38259175, 12387.53802533,\n",
       "        6020.02334125, 17734.00821551, 16227.21110861,  7501.96633228,\n",
       "        2659.53586165, 12435.53395732,  6576.09791799, 39975.94001648,\n",
       "       11622.47477808,  5002.69439224,  2943.52672854,  7901.59495578,\n",
       "        3323.23847368,  4334.32430464, 12208.57430461, 11023.50073992,\n",
       "        8037.19949237, 14903.23796995, 14595.35324889,  9922.63928695,\n",
       "        6409.8423342 ,  4995.5027441 , 15604.99202834,  6308.28945363,\n",
       "        4905.30221229,  2694.69133789,  8145.6499873 ,  6011.24918194,\n",
       "        9268.04947813,  3352.03647513,  6216.31788551,  4754.85538407,\n",
       "        6038.95209701,  7730.66976897, 28852.03077427,  2283.8306154 ,\n",
       "       14160.86707385,  6933.45259528, 12328.57648669,  5661.12232449,\n",
       "        7466.08620112, 28223.42718053,  3364.71818427,  2364.12613993,\n",
       "       15616.84572322, 11634.9916338 , 42555.35680878,  6507.62704072,\n",
       "        5688.84141284, 24462.5197918 ,  4215.78200495,  4711.11227949,\n",
       "        8510.65533039,  7418.48568882,  5248.84965207,  4937.72347888,\n",
       "       14675.20285006])"
      ]
     },
     "metadata": {},
     "output_type": "display_data"
    }
   ],
   "source": [
    "y_test_pred = regressor.predict(X_test)\n",
    "\n",
    "y_test_pred_df= pd.DataFrame(y_test_pred)\n",
    " \n",
    "\n",
    "display(y_test_pred)"
   ]
  },
  {
   "cell_type": "code",
   "execution_count": 36,
   "id": "dabe46a9",
   "metadata": {},
   "outputs": [
    {
     "name": "stdout",
     "output_type": "stream",
     "text": [
      "RMSE for training set is 3846.4130856434904\n",
      "RMSE for test set is 4229.062791927935\n"
     ]
    }
   ],
   "source": [
    "from sklearn import metrics\n",
    "\n",
    "RMSE_train = np.sqrt( metrics.mean_squared_error(y_train, y_train_pred))\n",
    "RMSE_test = np.sqrt(metrics.mean_squared_error(y_test, y_test_pred))\n",
    "print('RMSE for training set is {}'.format(RMSE_train))\n",
    "print('RMSE for test set is {}'.format(RMSE_test))"
   ]
  },
  {
   "cell_type": "code",
   "execution_count": 37,
   "id": "d15988c1",
   "metadata": {},
   "outputs": [
    {
     "name": "stdout",
     "output_type": "stream",
     "text": [
      "R2 score for training set is 0.8964445586145289\n",
      "R2 score for test set is 0.892680553823514\n"
     ]
    }
   ],
   "source": [
    "r2_train = metrics.r2_score(y_train,y_train_pred)\n",
    "r2_test = metrics.r2_score(y_test,y_test_pred)\n",
    "\n",
    "print(\"R2 score for training set is {}\".format(r2_train))\n",
    "print(\"R2 score for test set is {}\".format(r2_test))"
   ]
  },
  {
   "cell_type": "code",
   "execution_count": null,
   "id": "a9de4215",
   "metadata": {
    "scrolled": true
   },
   "outputs": [],
   "source": []
  }
 ],
 "metadata": {
  "kernelspec": {
   "display_name": "Python 3",
   "language": "python",
   "name": "python3"
  },
  "language_info": {
   "codemirror_mode": {
    "name": "ipython",
    "version": 3
   },
   "file_extension": ".py",
   "mimetype": "text/x-python",
   "name": "python",
   "nbconvert_exporter": "python",
   "pygments_lexer": "ipython3",
   "version": "3.8.8"
  }
 },
 "nbformat": 4,
 "nbformat_minor": 5
}
